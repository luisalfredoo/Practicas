{
  "nbformat": 4,
  "nbformat_minor": 0,
  "metadata": {
    "colab": {
      "name": "luis_alfredo_osorio_jaramillo_AG1.ipynb",
      "provenance": [],
      "authorship_tag": "ABX9TyO8Y8mIpha8u4aeLcOoUeY5",
      "include_colab_link": true
    },
    "kernelspec": {
      "name": "python3",
      "display_name": "Python 3"
    }
  },
  "cells": [
    {
      "cell_type": "markdown",
      "metadata": {
        "id": "view-in-github",
        "colab_type": "text"
      },
      "source": [
        "<a href=\"https://colab.research.google.com/github/luisalfredoo/Practicas/blob/master/luis_alfredo_osorio_jaramillo_AG1.ipynb\" target=\"_parent\"><img src=\"https://colab.research.google.com/assets/colab-badge.svg\" alt=\"Open In Colab\"/></a>"
      ]
    },
    {
      "cell_type": "code",
      "metadata": {
        "id": "7SvcV0xuoN1M",
        "colab_type": "code",
        "colab": {}
      },
      "source": [
        "#LUIS ALFREDO OSORIO JARAMILLO AG-1\n",
        "#https://colab.research.google.com/drive/1Ni2IlrMflw3Ae8X3tlWF3zlE9pIlKDrb?usp=sharing\n"
      ],
      "execution_count": 0,
      "outputs": []
    },
    {
      "cell_type": "markdown",
      "metadata": {
        "id": "fSyHXjkgpi6F",
        "colab_type": "text"
      },
      "source": [
        "# ACTIVIDAD GUIADA\n",
        "\n",
        "$$f'(a) = \\lim_{x \\to a} \\frac{f(x) - f(a)}{x-a}$$"
      ]
    },
    {
      "cell_type": "code",
      "metadata": {
        "id": "8f9f0Tkepekx",
        "colab_type": "code",
        "colab": {
          "base_uri": "https://localhost:8080/",
          "height": 272
        },
        "outputId": "ff334879-3f3e-4aa4-dae5-53e113eda47c"
      },
      "source": [
        "# Torres de Hanoi\n",
        "# metodo Divide y Venceras\n",
        "\n",
        "def Torres_Hanoi(N,desde, hasta):\n",
        "  if N==1 :\n",
        "    print('Mueve desde la ' + str(desde) + ' hasta ' + str(hasta) )\n",
        "  else:\n",
        "    Torres_Hanoi(N-1,desde,6-desde-hasta )\n",
        "    print('Mueve desde la ' + str(desde) + ' hasta ' + str(hasta) )\n",
        "    Torres_Hanoi(N-1, 6-hasta-desde, hasta)\n",
        "\n",
        "Torres_Hanoi(4,1,3)\n"
      ],
      "execution_count": 7,
      "outputs": [
        {
          "output_type": "stream",
          "text": [
            "Mueve desde la 1 hasta 2\n",
            "Mueve desde la 1 hasta 3\n",
            "Mueve desde la 2 hasta 3\n",
            "Mueve desde la 1 hasta 2\n",
            "Mueve desde la 3 hasta 1\n",
            "Mueve desde la 3 hasta 2\n",
            "Mueve desde la 1 hasta 2\n",
            "Mueve desde la 1 hasta 3\n",
            "Mueve desde la 2 hasta 3\n",
            "Mueve desde la 2 hasta 1\n",
            "Mueve desde la 3 hasta 1\n",
            "Mueve desde la 2 hasta 3\n",
            "Mueve desde la 1 hasta 2\n",
            "Mueve desde la 1 hasta 3\n",
            "Mueve desde la 2 hasta 3\n"
          ],
          "name": "stdout"
        }
      ]
    },
    {
      "cell_type": "code",
      "metadata": {
        "id": "u59J82gKv3T_",
        "colab_type": "code",
        "colab": {
          "base_uri": "https://localhost:8080/",
          "height": 34
        },
        "outputId": "0832c037-748a-495f-8c0b-232e0db18019"
      },
      "source": [
        "#Cambio monedas\n",
        "Sistema_Monetario = [25,10,5,1]\n",
        "def cambio_monedas(N,Sistema_Monetario):\n",
        "  ValorAcumulado = 0\n",
        "  sol = [0]*len(Sistema_Monetario)\n",
        "\n",
        "  for i,m in enumerate(Sistema_Monetario):\n",
        "    monedas = (N-ValorAcumulado)//m\n",
        "    ValorAcumulado += monedas*m\n",
        "    sol[i] = monedas\n",
        "  return sol\n",
        "\n",
        "print(cambio_monedas(27,Sistema_Monetario))\n"
      ],
      "execution_count": 10,
      "outputs": [
        {
          "output_type": "stream",
          "text": [
            "[1, 0, 0, 2]\n"
          ],
          "name": "stdout"
        }
      ]
    }
  ]
}